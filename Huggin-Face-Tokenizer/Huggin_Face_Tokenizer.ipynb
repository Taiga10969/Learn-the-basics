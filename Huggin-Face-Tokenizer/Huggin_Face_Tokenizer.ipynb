{
  "nbformat": 4,
  "nbformat_minor": 0,
  "metadata": {
    "colab": {
      "provenance": [],
      "authorship_tag": "ABX9TyNQshaU2DVqvH35icn5x2L3",
      "include_colab_link": true
    },
    "kernelspec": {
      "name": "python3",
      "display_name": "Python 3"
    },
    "language_info": {
      "name": "python"
    },
    "widgets": {
      "application/vnd.jupyter.widget-state+json": {
        "2b6fdd9564834f95a8783f665af2da56": {
          "model_module": "@jupyter-widgets/controls",
          "model_name": "HBoxModel",
          "model_module_version": "1.5.0",
          "state": {
            "_dom_classes": [],
            "_model_module": "@jupyter-widgets/controls",
            "_model_module_version": "1.5.0",
            "_model_name": "HBoxModel",
            "_view_count": null,
            "_view_module": "@jupyter-widgets/controls",
            "_view_module_version": "1.5.0",
            "_view_name": "HBoxView",
            "box_style": "",
            "children": [
              "IPY_MODEL_5e76ec6f8a9647d99d41f919cda3b531",
              "IPY_MODEL_c6eafea0b527405ba0abab035483cdc7",
              "IPY_MODEL_ba72d887bc6c4580b05939ff27c06aad"
            ],
            "layout": "IPY_MODEL_d70b077f86d144699afa03c406ad3283"
          }
        },
        "5e76ec6f8a9647d99d41f919cda3b531": {
          "model_module": "@jupyter-widgets/controls",
          "model_name": "HTMLModel",
          "model_module_version": "1.5.0",
          "state": {
            "_dom_classes": [],
            "_model_module": "@jupyter-widgets/controls",
            "_model_module_version": "1.5.0",
            "_model_name": "HTMLModel",
            "_view_count": null,
            "_view_module": "@jupyter-widgets/controls",
            "_view_module_version": "1.5.0",
            "_view_name": "HTMLView",
            "description": "",
            "description_tooltip": null,
            "layout": "IPY_MODEL_3037cdbd4f9546b2b517a199cbfa95ec",
            "placeholder": "​",
            "style": "IPY_MODEL_6928878a9d9e4a07ad839156b59b840b",
            "value": "100%"
          }
        },
        "c6eafea0b527405ba0abab035483cdc7": {
          "model_module": "@jupyter-widgets/controls",
          "model_name": "FloatProgressModel",
          "model_module_version": "1.5.0",
          "state": {
            "_dom_classes": [],
            "_model_module": "@jupyter-widgets/controls",
            "_model_module_version": "1.5.0",
            "_model_name": "FloatProgressModel",
            "_view_count": null,
            "_view_module": "@jupyter-widgets/controls",
            "_view_module_version": "1.5.0",
            "_view_name": "ProgressView",
            "bar_style": "success",
            "description": "",
            "description_tooltip": null,
            "layout": "IPY_MODEL_4923e7549a5f4e2ca8b5000d6ac5d312",
            "max": 3,
            "min": 0,
            "orientation": "horizontal",
            "style": "IPY_MODEL_58df260f80ec45a6ab7622a5d5be8856",
            "value": 3
          }
        },
        "ba72d887bc6c4580b05939ff27c06aad": {
          "model_module": "@jupyter-widgets/controls",
          "model_name": "HTMLModel",
          "model_module_version": "1.5.0",
          "state": {
            "_dom_classes": [],
            "_model_module": "@jupyter-widgets/controls",
            "_model_module_version": "1.5.0",
            "_model_name": "HTMLModel",
            "_view_count": null,
            "_view_module": "@jupyter-widgets/controls",
            "_view_module_version": "1.5.0",
            "_view_name": "HTMLView",
            "description": "",
            "description_tooltip": null,
            "layout": "IPY_MODEL_59843589d6794c9aab485400733c78b6",
            "placeholder": "​",
            "style": "IPY_MODEL_5e132367a0cc44b0bce32935bd618dce",
            "value": " 3/3 [00:00&lt;00:00, 33.13it/s]"
          }
        },
        "d70b077f86d144699afa03c406ad3283": {
          "model_module": "@jupyter-widgets/base",
          "model_name": "LayoutModel",
          "model_module_version": "1.2.0",
          "state": {
            "_model_module": "@jupyter-widgets/base",
            "_model_module_version": "1.2.0",
            "_model_name": "LayoutModel",
            "_view_count": null,
            "_view_module": "@jupyter-widgets/base",
            "_view_module_version": "1.2.0",
            "_view_name": "LayoutView",
            "align_content": null,
            "align_items": null,
            "align_self": null,
            "border": null,
            "bottom": null,
            "display": null,
            "flex": null,
            "flex_flow": null,
            "grid_area": null,
            "grid_auto_columns": null,
            "grid_auto_flow": null,
            "grid_auto_rows": null,
            "grid_column": null,
            "grid_gap": null,
            "grid_row": null,
            "grid_template_areas": null,
            "grid_template_columns": null,
            "grid_template_rows": null,
            "height": null,
            "justify_content": null,
            "justify_items": null,
            "left": null,
            "margin": null,
            "max_height": null,
            "max_width": null,
            "min_height": null,
            "min_width": null,
            "object_fit": null,
            "object_position": null,
            "order": null,
            "overflow": null,
            "overflow_x": null,
            "overflow_y": null,
            "padding": null,
            "right": null,
            "top": null,
            "visibility": null,
            "width": null
          }
        },
        "3037cdbd4f9546b2b517a199cbfa95ec": {
          "model_module": "@jupyter-widgets/base",
          "model_name": "LayoutModel",
          "model_module_version": "1.2.0",
          "state": {
            "_model_module": "@jupyter-widgets/base",
            "_model_module_version": "1.2.0",
            "_model_name": "LayoutModel",
            "_view_count": null,
            "_view_module": "@jupyter-widgets/base",
            "_view_module_version": "1.2.0",
            "_view_name": "LayoutView",
            "align_content": null,
            "align_items": null,
            "align_self": null,
            "border": null,
            "bottom": null,
            "display": null,
            "flex": null,
            "flex_flow": null,
            "grid_area": null,
            "grid_auto_columns": null,
            "grid_auto_flow": null,
            "grid_auto_rows": null,
            "grid_column": null,
            "grid_gap": null,
            "grid_row": null,
            "grid_template_areas": null,
            "grid_template_columns": null,
            "grid_template_rows": null,
            "height": null,
            "justify_content": null,
            "justify_items": null,
            "left": null,
            "margin": null,
            "max_height": null,
            "max_width": null,
            "min_height": null,
            "min_width": null,
            "object_fit": null,
            "object_position": null,
            "order": null,
            "overflow": null,
            "overflow_x": null,
            "overflow_y": null,
            "padding": null,
            "right": null,
            "top": null,
            "visibility": null,
            "width": null
          }
        },
        "6928878a9d9e4a07ad839156b59b840b": {
          "model_module": "@jupyter-widgets/controls",
          "model_name": "DescriptionStyleModel",
          "model_module_version": "1.5.0",
          "state": {
            "_model_module": "@jupyter-widgets/controls",
            "_model_module_version": "1.5.0",
            "_model_name": "DescriptionStyleModel",
            "_view_count": null,
            "_view_module": "@jupyter-widgets/base",
            "_view_module_version": "1.2.0",
            "_view_name": "StyleView",
            "description_width": ""
          }
        },
        "4923e7549a5f4e2ca8b5000d6ac5d312": {
          "model_module": "@jupyter-widgets/base",
          "model_name": "LayoutModel",
          "model_module_version": "1.2.0",
          "state": {
            "_model_module": "@jupyter-widgets/base",
            "_model_module_version": "1.2.0",
            "_model_name": "LayoutModel",
            "_view_count": null,
            "_view_module": "@jupyter-widgets/base",
            "_view_module_version": "1.2.0",
            "_view_name": "LayoutView",
            "align_content": null,
            "align_items": null,
            "align_self": null,
            "border": null,
            "bottom": null,
            "display": null,
            "flex": null,
            "flex_flow": null,
            "grid_area": null,
            "grid_auto_columns": null,
            "grid_auto_flow": null,
            "grid_auto_rows": null,
            "grid_column": null,
            "grid_gap": null,
            "grid_row": null,
            "grid_template_areas": null,
            "grid_template_columns": null,
            "grid_template_rows": null,
            "height": null,
            "justify_content": null,
            "justify_items": null,
            "left": null,
            "margin": null,
            "max_height": null,
            "max_width": null,
            "min_height": null,
            "min_width": null,
            "object_fit": null,
            "object_position": null,
            "order": null,
            "overflow": null,
            "overflow_x": null,
            "overflow_y": null,
            "padding": null,
            "right": null,
            "top": null,
            "visibility": null,
            "width": null
          }
        },
        "58df260f80ec45a6ab7622a5d5be8856": {
          "model_module": "@jupyter-widgets/controls",
          "model_name": "ProgressStyleModel",
          "model_module_version": "1.5.0",
          "state": {
            "_model_module": "@jupyter-widgets/controls",
            "_model_module_version": "1.5.0",
            "_model_name": "ProgressStyleModel",
            "_view_count": null,
            "_view_module": "@jupyter-widgets/base",
            "_view_module_version": "1.2.0",
            "_view_name": "StyleView",
            "bar_color": null,
            "description_width": ""
          }
        },
        "59843589d6794c9aab485400733c78b6": {
          "model_module": "@jupyter-widgets/base",
          "model_name": "LayoutModel",
          "model_module_version": "1.2.0",
          "state": {
            "_model_module": "@jupyter-widgets/base",
            "_model_module_version": "1.2.0",
            "_model_name": "LayoutModel",
            "_view_count": null,
            "_view_module": "@jupyter-widgets/base",
            "_view_module_version": "1.2.0",
            "_view_name": "LayoutView",
            "align_content": null,
            "align_items": null,
            "align_self": null,
            "border": null,
            "bottom": null,
            "display": null,
            "flex": null,
            "flex_flow": null,
            "grid_area": null,
            "grid_auto_columns": null,
            "grid_auto_flow": null,
            "grid_auto_rows": null,
            "grid_column": null,
            "grid_gap": null,
            "grid_row": null,
            "grid_template_areas": null,
            "grid_template_columns": null,
            "grid_template_rows": null,
            "height": null,
            "justify_content": null,
            "justify_items": null,
            "left": null,
            "margin": null,
            "max_height": null,
            "max_width": null,
            "min_height": null,
            "min_width": null,
            "object_fit": null,
            "object_position": null,
            "order": null,
            "overflow": null,
            "overflow_x": null,
            "overflow_y": null,
            "padding": null,
            "right": null,
            "top": null,
            "visibility": null,
            "width": null
          }
        },
        "5e132367a0cc44b0bce32935bd618dce": {
          "model_module": "@jupyter-widgets/controls",
          "model_name": "DescriptionStyleModel",
          "model_module_version": "1.5.0",
          "state": {
            "_model_module": "@jupyter-widgets/controls",
            "_model_module_version": "1.5.0",
            "_model_name": "DescriptionStyleModel",
            "_view_count": null,
            "_view_module": "@jupyter-widgets/base",
            "_view_module_version": "1.2.0",
            "_view_name": "StyleView",
            "description_width": ""
          }
        }
      }
    }
  },
  "cells": [
    {
      "cell_type": "markdown",
      "metadata": {
        "id": "view-in-github",
        "colab_type": "text"
      },
      "source": [
        "<a href=\"https://colab.research.google.com/github/Taiga10969/Learn-the-basics/blob/main/Huggin-Face-Tokenizer/Huggin_Face_Tokenizer.ipynb\" target=\"_parent\"><img src=\"https://colab.research.google.com/assets/colab-badge.svg\" alt=\"Open In Colab\"/></a>"
      ]
    },
    {
      "cell_type": "markdown",
      "source": [
        "# Hugging Face Tokenizers の使い方\n",
        "Transformer のモデルはトークンの数値表現に基づいて学習される為，トークン化のステップを正しく行うことは NLP プロジェクト全体にとってかなり重要なことである．<br>\n",
        "Hugging Face Tokenizers は多数のトークン化戦略を提供しており，入力の正規化やモデルの出力を必要な形式に変換するなどの事前・事後処理のステップも全て行うことができる．<br>\n",
        "本 notebook では，この Hugging Face Tokeninzer の使い方について説明する．"
      ],
      "metadata": {
        "id": "F08q1STkS2SD"
      }
    },
    {
      "cell_type": "markdown",
      "source": [
        "## 1. 必要ライブラリのインポート，トークナイザーのロード\n",
        "Hugging Face Transformers は便利な AutoTokenizer クラスを提供している．<br>\n",
        "このクラスを用いて学習済みモデルに関連づけられたトークナイザーを素早くロードすることができる．<br>\n",
        "ロードは，Hub 上のモデルの ID またはローカルファイルのパスを指定して `from_pretrained()` メソッドを呼び出すことで可能である．<br>\n",
        "※ 本 notebook では，DistilBERTのトークナイザーをロードし使用する．\n",
        "\n"
      ],
      "metadata": {
        "id": "9oyH-mqxUmkz"
      }
    },
    {
      "cell_type": "code",
      "execution_count": null,
      "metadata": {
        "id": "WBWfsED_Sp0F"
      },
      "outputs": [],
      "source": [
        "from transformers import AutoTokenizer\n",
        "\n",
        "model_ckpt = 'distilbert-base-uncased'\n",
        "tokenizer = AutoTokenizer.from_pretrained(model_ckpt)"
      ]
    },
    {
      "cell_type": "markdown",
      "source": [
        "※ AutoTokenizer クラスを使用せず，特定のクラスをロードしたい場合は以下のようにすることで可能．<br>\n",
        "`from transformers import DistilBertTokenizer`<br>\n",
        "`distilbert_tokenizer = DistilBertTokenizer.from_pretrained(model_ckpt)`"
      ],
      "metadata": {
        "id": "QmiFhkCyXFvl"
      }
    },
    {
      "cell_type": "markdown",
      "source": [
        "## 2. 文字列のトークン化（ id 化）\n",
        "実際に，定義した `tokenizer` を用いて文字列を id に変換するプロセスを以下に示す．<br>\n",
        "以下に示すように，入力した文字列は，単語毎に変換され `input_ids` フィールドで一意な整数にマップされていることが確認できる．<br>\n",
        "また，`attention_mask` も提供されており，Transformer などのモデル内部において，パディングトークン領域を無視するためにモデル内で用いられる．"
      ],
      "metadata": {
        "id": "DDPU-iASYgEa"
      }
    },
    {
      "cell_type": "code",
      "source": [
        "text = 'This notebook describes Hugging Face Tokenizer'\n",
        "\n",
        "encoded_text = tokenizer(text)\n",
        "print(encoded_text)"
      ],
      "metadata": {
        "colab": {
          "base_uri": "https://localhost:8080/"
        },
        "id": "o6Q1rsPGUZYS",
        "outputId": "3d66c274-6b4b-4d97-867a-a26da9911e3e"
      },
      "execution_count": null,
      "outputs": [
        {
          "output_type": "stream",
          "name": "stdout",
          "text": [
            "{'input_ids': [101, 2023, 14960, 5577, 17662, 2227, 19204, 17629, 102], 'attention_mask': [1, 1, 1, 1, 1, 1, 1, 1, 1]}\n"
          ]
        }
      ]
    },
    {
      "cell_type": "markdown",
      "source": [
        "## 3. id から単語・文字列への再変換\n",
        "id 化された文字列を，人間が読むことができる単語に戻し，入力したテキストへ再変換を行う．<br>\n",
        "単語 id から文字の単語への変換は，以下に示すようにトークナイザーの `convert_ids_to_tokens()` メソッドを用いることで可能である．"
      ],
      "metadata": {
        "id": "Ll3Q-riwag0s"
      }
    },
    {
      "cell_type": "code",
      "source": [
        "# id → token\n",
        "tokens = tokenizer.convert_ids_to_tokens(encoded_text.input_ids)\n",
        "print(tokens)"
      ],
      "metadata": {
        "colab": {
          "base_uri": "https://localhost:8080/"
        },
        "id": "qWSOHaYWUZRs",
        "outputId": "f7380dd2-f5c3-43bb-e564-b7ba23d1c55e"
      },
      "execution_count": null,
      "outputs": [
        {
          "output_type": "stream",
          "name": "stdout",
          "text": [
            "['[CLS]', 'this', 'notebook', 'describes', 'hugging', 'face', 'token', '##izer', '[SEP]']\n"
          ]
        }
      ]
    },
    {
      "cell_type": "markdown",
      "source": [
        "以上の出力から，今回の文字列中に含まれる \"Tokenizer\" という単語は，\"token\" と \"izer\" という二つのサブワードに分割されトークン化が行われていることが確認できる．サブワードに分割されトークン化が行われている場合は，## というプレフィックスが付いているおり，これは，直前の文字列が空白ではないことを意味している．"
      ],
      "metadata": {
        "id": "rFaQPCFicBPk"
      }
    },
    {
      "cell_type": "code",
      "source": [
        "# token → string\n",
        "string = tokenizer.convert_tokens_to_string(tokens)\n",
        "print(string)"
      ],
      "metadata": {
        "colab": {
          "base_uri": "https://localhost:8080/"
        },
        "id": "B-yyyFNfdL8x",
        "outputId": "95e34ed1-acf3-4131-9d4d-e400a31fd9c5"
      },
      "execution_count": null,
      "outputs": [
        {
          "output_type": "stream",
          "name": "stdout",
          "text": [
            "[CLS] this notebook describes hugging face tokenizer [SEP]\n"
          ]
        }
      ]
    },
    {
      "cell_type": "markdown",
      "source": [
        "ここで，再変換されたテキストは，元のテキストと比較して，文字列の最初と最後に特殊トークン [CLS] と [SEP] が追加されていることが確認できる．これらの，特殊トークンは，モデルによって異なるが，その役割は系列の開始と終了を示すことである．また，大文字は全て小文字に正規化されていることも確認できる．"
      ],
      "metadata": {
        "id": "AGPqGui6dolk"
      }
    },
    {
      "cell_type": "markdown",
      "source": [
        "## 4. AutoTokenizer の情報提供属性\n",
        "Autotokenizer クラスはトークナイザーに関する情報を提供する属性をいくつか以下に示す．"
      ],
      "metadata": {
        "id": "GuIQVGBbgE_f"
      }
    },
    {
      "cell_type": "code",
      "source": [
        "# vacab_size\n",
        "tokenizer.vocab_size"
      ],
      "metadata": {
        "colab": {
          "base_uri": "https://localhost:8080/"
        },
        "id": "t6qb1ZsIgEk7",
        "outputId": "cd869d13-906a-4cb9-cb86-cbc69501cfcf"
      },
      "execution_count": null,
      "outputs": [
        {
          "output_type": "execute_result",
          "data": {
            "text/plain": [
              "30522"
            ]
          },
          "metadata": {},
          "execution_count": 5
        }
      ]
    },
    {
      "cell_type": "code",
      "source": [
        "# 対応するモデルの最大コンテキストサイズ\n",
        "tokenizer.model_max_length"
      ],
      "metadata": {
        "colab": {
          "base_uri": "https://localhost:8080/"
        },
        "id": "4JPVopDwguzm",
        "outputId": "88db9a45-5ae7-44dc-b875-81b945d5c475"
      },
      "execution_count": null,
      "outputs": [
        {
          "output_type": "execute_result",
          "data": {
            "text/plain": [
              "512"
            ]
          },
          "metadata": {},
          "execution_count": 6
        }
      ]
    },
    {
      "cell_type": "code",
      "source": [
        "# モデルがフォワードパスで期待するフィールドの名前\n",
        "tokenizer.model_input_names"
      ],
      "metadata": {
        "colab": {
          "base_uri": "https://localhost:8080/"
        },
        "id": "X5SQlEDRg6Tn",
        "outputId": "0352e808-2cd8-46d0-8010-639e3c2babdd"
      },
      "execution_count": null,
      "outputs": [
        {
          "output_type": "execute_result",
          "data": {
            "text/plain": [
              "['input_ids', 'attention_mask']"
            ]
          },
          "metadata": {},
          "execution_count": 7
        }
      ]
    },
    {
      "cell_type": "markdown",
      "source": [
        "## 5. データセット全体のトークン化\n",
        "コーパス全体をトークン化するプロセスを以下に示す．\n"
      ],
      "metadata": {
        "id": "GPTwEGtRc_DB"
      }
    },
    {
      "cell_type": "markdown",
      "source": [
        "### 5.1 データセットの用意\n",
        "今回は，実際に emotion データセットを用いて，データセット全体にトークン化を適応するプロセスを以下に示す．<br>\n",
        "そのために，始めにデータセットを用意する．<br>\n",
        "\n",
        "※ Hugging Face Hub にないデータセットを用いる場合は，書籍「機械学習エンジニアのためのTransformers」のp.27を参考．"
      ],
      "metadata": {
        "id": "oBXNMTAOjthS"
      }
    },
    {
      "cell_type": "code",
      "source": [
        "from datasets import list_datasets, load_dataset\n",
        "\n",
        "all_datasets = list_datasets()\n",
        "print(f\"There ate {len(all_datasets)} datasets currently available on the Hub\")\n",
        "print(f\"The first 10 are : {all_datasets[:10]}\")"
      ],
      "metadata": {
        "colab": {
          "base_uri": "https://localhost:8080/"
        },
        "id": "1y_5tCvRh9c_",
        "outputId": "28be4023-d67d-426b-a085-35c7c209523d"
      },
      "execution_count": null,
      "outputs": [
        {
          "output_type": "stream",
          "name": "stderr",
          "text": [
            "<ipython-input-8-b1242aea85d9>:3: FutureWarning: list_datasets is deprecated and will be removed in the next major version of datasets. Use 'huggingface_hub.list_datasets' instead.\n",
            "  all_datasets = list_datasets()\n"
          ]
        },
        {
          "output_type": "stream",
          "name": "stdout",
          "text": [
            "There ate 45192 datasets currently available on the Hub\n",
            "The first 10 are : ['acronym_identification', 'ade_corpus_v2', 'adversarial_qa', 'aeslc', 'afrikaans_ner_corpus', 'ag_news', 'ai2_arc', 'air_dialogue', 'ajgt_twitter_ar', 'allegro_reviews']\n"
          ]
        }
      ]
    },
    {
      "cell_type": "code",
      "source": [
        "# emotion データセットをロード\n",
        "emotions = load_dataset(\"emotion\")\n",
        "emotions"
      ],
      "metadata": {
        "colab": {
          "base_uri": "https://localhost:8080/",
          "height": 327,
          "referenced_widgets": [
            "2b6fdd9564834f95a8783f665af2da56",
            "5e76ec6f8a9647d99d41f919cda3b531",
            "c6eafea0b527405ba0abab035483cdc7",
            "ba72d887bc6c4580b05939ff27c06aad",
            "d70b077f86d144699afa03c406ad3283",
            "3037cdbd4f9546b2b517a199cbfa95ec",
            "6928878a9d9e4a07ad839156b59b840b",
            "4923e7549a5f4e2ca8b5000d6ac5d312",
            "58df260f80ec45a6ab7622a5d5be8856",
            "59843589d6794c9aab485400733c78b6",
            "5e132367a0cc44b0bce32935bd618dce"
          ]
        },
        "id": "Lw_io4K0i2q2",
        "outputId": "c1bf0066-8001-476d-cd95-8e836f57c846"
      },
      "execution_count": null,
      "outputs": [
        {
          "output_type": "stream",
          "name": "stderr",
          "text": [
            "WARNING:datasets.builder:No config specified, defaulting to: emotion/split\n",
            "WARNING:datasets.builder:Found cached dataset emotion (/root/.cache/huggingface/datasets/emotion/split/1.0.0/cca5efe2dfeb58c1d098e0f9eeb200e9927d889b5a03c67097275dfb5fe463bd)\n"
          ]
        },
        {
          "output_type": "display_data",
          "data": {
            "text/plain": [
              "  0%|          | 0/3 [00:00<?, ?it/s]"
            ],
            "application/vnd.jupyter.widget-view+json": {
              "version_major": 2,
              "version_minor": 0,
              "model_id": "2b6fdd9564834f95a8783f665af2da56"
            }
          },
          "metadata": {}
        },
        {
          "output_type": "execute_result",
          "data": {
            "text/plain": [
              "DatasetDict({\n",
              "    train: Dataset({\n",
              "        features: ['text', 'label'],\n",
              "        num_rows: 16000\n",
              "    })\n",
              "    validation: Dataset({\n",
              "        features: ['text', 'label'],\n",
              "        num_rows: 2000\n",
              "    })\n",
              "    test: Dataset({\n",
              "        features: ['text', 'label'],\n",
              "        num_rows: 2000\n",
              "    })\n",
              "})"
            ]
          },
          "metadata": {},
          "execution_count": 9
        }
      ]
    },
    {
      "cell_type": "code",
      "source": [
        "# データセットの作成\n",
        "train_ds = emotions['train']\n",
        "train_ds"
      ],
      "metadata": {
        "colab": {
          "base_uri": "https://localhost:8080/"
        },
        "id": "7Zcz8E5-jHQz",
        "outputId": "20a660b9-49b3-4207-b16f-ddc82b28d070"
      },
      "execution_count": null,
      "outputs": [
        {
          "output_type": "execute_result",
          "data": {
            "text/plain": [
              "Dataset({\n",
              "    features: ['text', 'label'],\n",
              "    num_rows: 16000\n",
              "})"
            ]
          },
          "metadata": {},
          "execution_count": 10
        }
      ]
    },
    {
      "cell_type": "code",
      "source": [
        "# データセットの初めの5つの要素を確認\n",
        "train_ds[:5]"
      ],
      "metadata": {
        "colab": {
          "base_uri": "https://localhost:8080/"
        },
        "id": "17gwO0q3jP4I",
        "outputId": "fc0f10fe-0997-46e8-aa85-9910890e5977"
      },
      "execution_count": null,
      "outputs": [
        {
          "output_type": "execute_result",
          "data": {
            "text/plain": [
              "{'text': ['i didnt feel humiliated',\n",
              "  'i can go from feeling so hopeless to so damned hopeful just from being around someone who cares and is awake',\n",
              "  'im grabbing a minute to post i feel greedy wrong',\n",
              "  'i am ever feeling nostalgic about the fireplace i will know that it is still on the property',\n",
              "  'i am feeling grouchy'],\n",
              " 'label': [0, 0, 3, 2, 3]}"
            ]
          },
          "metadata": {},
          "execution_count": 11
        }
      ]
    },
    {
      "cell_type": "code",
      "source": [
        "# ☆データセットオブジェクトの内部でどのようなデータ型が使われているのかの確認\n",
        "print(train_ds.features)"
      ],
      "metadata": {
        "colab": {
          "base_uri": "https://localhost:8080/"
        },
        "id": "sj7mUj94jozt",
        "outputId": "c99623d9-699c-44f6-baa7-150eb7601c64"
      },
      "execution_count": null,
      "outputs": [
        {
          "output_type": "stream",
          "name": "stdout",
          "text": [
            "{'text': Value(dtype='string', id=None), 'label': ClassLabel(names=['sadness', 'joy', 'love', 'anger', 'fear', 'surprise'], id=None)}\n"
          ]
        }
      ]
    },
    {
      "cell_type": "markdown",
      "source": [
        "### 5.2 複数の事例をトークン化するための関数を定義\n",
        "事例のバッチに対してトークナイザーを適用する関数を作成する．<br>\n",
        "`padding = True` : バッチ内で最も長い事例のサイズまでゼロで埋める<br>\n",
        "`truncation = True` : モデルの最大コンテキストサイズまでじれを切り詰める"
      ],
      "metadata": {
        "id": "KAo6W0fjFhXi"
      }
    },
    {
      "cell_type": "code",
      "source": [
        "def tokenize(batch):\n",
        "    return tokenizer(batch['text'], padding = True, truncation=True, max_length=128)"
      ],
      "metadata": {
        "id": "Ny6wxUAnkIwN"
      },
      "execution_count": null,
      "outputs": []
    },
    {
      "cell_type": "markdown",
      "source": [
        "### 5.3 作成した関数を用いてデータセットをトークン化\n"
      ],
      "metadata": {
        "id": "jPQWdM2FIdPd"
      }
    },
    {
      "cell_type": "code",
      "source": [
        "# 試しに初めの2要素に対してトークン化した結果\n",
        "print(tokenize(emotions['train'][:2]))"
      ],
      "metadata": {
        "colab": {
          "base_uri": "https://localhost:8080/"
        },
        "id": "DH-2Lm0hkIts",
        "outputId": "18a1250e-16d2-461f-d013-fd282e5ef8da"
      },
      "execution_count": null,
      "outputs": [
        {
          "output_type": "stream",
          "name": "stdout",
          "text": [
            "{'input_ids': [[101, 1045, 2134, 2102, 2514, 26608, 102, 0, 0, 0, 0, 0, 0, 0, 0, 0, 0, 0, 0, 0, 0, 0, 0], [101, 1045, 2064, 2175, 2013, 3110, 2061, 20625, 2000, 2061, 9636, 17772, 2074, 2013, 2108, 2105, 2619, 2040, 14977, 1998, 2003, 8300, 102]], 'attention_mask': [[1, 1, 1, 1, 1, 1, 1, 0, 0, 0, 0, 0, 0, 0, 0, 0, 0, 0, 0, 0, 0, 0, 0], [1, 1, 1, 1, 1, 1, 1, 1, 1, 1, 1, 1, 1, 1, 1, 1, 1, 1, 1, 1, 1, 1, 1]]}\n"
          ]
        }
      ]
    },
    {
      "cell_type": "code",
      "source": [
        "# map()関数を用いてコーパスの全てに対して個別に適用させる\n",
        "## batched=True : 一括してエンコード可能\n",
        "## batch_size = None : tokenize()関数はデータセット全体を1つのバッチとして適用\n",
        "\n",
        "emotions_encoded = emotions.map(tokenize, batched=True, batch_size=None)"
      ],
      "metadata": {
        "colab": {
          "base_uri": "https://localhost:8080/"
        },
        "id": "K5gEj02WkIrI",
        "outputId": "444978ad-8d01-416d-9483-9bf707b9b8c6"
      },
      "execution_count": null,
      "outputs": [
        {
          "output_type": "stream",
          "name": "stderr",
          "text": [
            "WARNING:datasets.arrow_dataset:Loading cached processed dataset at /root/.cache/huggingface/datasets/emotion/split/1.0.0/cca5efe2dfeb58c1d098e0f9eeb200e9927d889b5a03c67097275dfb5fe463bd/cache-27a2e9ebed56e17e.arrow\n",
            "WARNING:datasets.arrow_dataset:Loading cached processed dataset at /root/.cache/huggingface/datasets/emotion/split/1.0.0/cca5efe2dfeb58c1d098e0f9eeb200e9927d889b5a03c67097275dfb5fe463bd/cache-1235048818377662.arrow\n",
            "WARNING:datasets.arrow_dataset:Loading cached processed dataset at /root/.cache/huggingface/datasets/emotion/split/1.0.0/cca5efe2dfeb58c1d098e0f9eeb200e9927d889b5a03c67097275dfb5fe463bd/cache-306f78b8bd9e3394.arrow\n"
          ]
        }
      ]
    },
    {
      "cell_type": "code",
      "source": [
        "print(emotions_encoded['train'].column_names)"
      ],
      "metadata": {
        "colab": {
          "base_uri": "https://localhost:8080/"
        },
        "id": "xDuJRwZcH8jE",
        "outputId": "8f138997-62b5-4141-b344-7023031af74d"
      },
      "execution_count": null,
      "outputs": [
        {
          "output_type": "stream",
          "name": "stdout",
          "text": [
            "['text', 'label', 'input_ids', 'attention_mask']\n"
          ]
        }
      ]
    },
    {
      "cell_type": "markdown",
      "source": [
        "## 参考\n",
        "\n",
        "Tunstall & Werra & Wolf, 機械学習エンジニアのためのTransformers, オライリー・ジャパン, 2022"
      ],
      "metadata": {
        "id": "JB3IU0L6UQv2"
      }
    }
  ]
}