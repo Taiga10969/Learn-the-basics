{
  "nbformat": 4,
  "nbformat_minor": 0,
  "metadata": {
    "colab": {
      "provenance": [],
      "authorship_tag": "ABX9TyMK0gbV5hjAc5Gbpfd3COZk"
    },
    "kernelspec": {
      "name": "python3",
      "display_name": "Python 3"
    },
    "language_info": {
      "name": "python"
    }
  },
  "cells": [
    {
      "cell_type": "code",
      "source": [
        "!pip --quiet install sentence_transformers"
      ],
      "metadata": {
        "id": "Yi6geZzKCqrm"
      },
      "execution_count": null,
      "outputs": []
    },
    {
      "cell_type": "code",
      "source": [
        "from sentence_transformers import SentenceTransformer\n",
        "import torch\n",
        "from torch.nn.functional import cosine_similarity\n",
        "import numpy as np\n",
        "\n",
        "model = SentenceTransformer('all-MiniLM-L12-v2')"
      ],
      "metadata": {
        "id": "hkn4Rxhc6wt5"
      },
      "execution_count": null,
      "outputs": []
    },
    {
      "cell_type": "code",
      "source": [
        "example_sentence1 = \"I enjoy reading books in my free time.\"  # 私は自由時間に本を読むのが好きです。\n",
        "example_sentence2 = \"In my spare time, I like to read books.\"  # 余暇には、本を読むのが好きです。\n",
        "example_sentence3 = \"The weather is nice, so let's go for a walk.\"  # 天気がいいので、散歩に行きましょう。\n",
        "example_sentence4 = \"The feline gracefully traversed the narrow alley, demonstrating remarkable agility.\"  # このネコ科動物は狭い路地を優雅に横切り、驚くべき敏捷性を示した。"
      ],
      "metadata": {
        "id": "rXXlaEZa6yA0"
      },
      "execution_count": null,
      "outputs": []
    },
    {
      "cell_type": "code",
      "source": [
        "sentences = [example_sentence1, example_sentence2, example_sentence3, example_sentence4]\n",
        "# 例文の埋め込み表現を獲得\n",
        "sentences_embeddings = model.encode(sentences)\n",
        "print(\"np.shape(sentences_embeddings) : \", np.shape(sentences_embeddings)) # (4, 384) << (num_sentencce, dim)"
      ],
      "metadata": {
        "colab": {
          "base_uri": "https://localhost:8080/"
        },
        "id": "4mS9CQXX9D0Q",
        "outputId": "155cd871-4f31-4cc4-ad93-5a2c63f28a19"
      },
      "execution_count": null,
      "outputs": [
        {
          "output_type": "stream",
          "name": "stdout",
          "text": [
            "np.shape(sentences_embeddings) :  (4, 384)\n"
          ]
        }
      ]
    },
    {
      "cell_type": "code",
      "source": [
        "# 例文と比較したい文章\n",
        "main_sentence = \"The cat moved with impressive dexterity through the slim passageway.\"  # 猫は細い通路を見事な器用さで移動した。\n",
        "\n",
        "# 例文と比較した文章の埋め込み表現を獲得\n",
        "main_embeddings = model.encode(main_sentence)\n",
        "print(\"np.shape(main_embeddings) : \", np.shape(main_embeddings)) # (384,) << (dim,)"
      ],
      "metadata": {
        "colab": {
          "base_uri": "https://localhost:8080/"
        },
        "id": "_SqnVzh_8Z6r",
        "outputId": "3399b304-1db1-4c71-d891-5ad1e93ef1e8"
      },
      "execution_count": null,
      "outputs": [
        {
          "output_type": "stream",
          "name": "stdout",
          "text": [
            "np.shape(main_embeddings) :  (384,)\n"
          ]
        }
      ]
    },
    {
      "cell_type": "code",
      "source": [
        "# 例文の埋め込み表現とのコサイン類似度を算出\n",
        "similarity_scores = []\n",
        "for index, embedding in enumerate(sentences_embeddings):\n",
        "     similarity_score = cosine_similarity(torch.unsqueeze(torch.tensor(main_embeddings), dim=0), torch.unsqueeze(torch.tensor(embedding), dim=0))\n",
        "     similarity_scores.append(similarity_score)\n",
        "     print(f\"main_sentence, example_sentence{index} : {similarity_score}\")"
      ],
      "metadata": {
        "colab": {
          "base_uri": "https://localhost:8080/"
        },
        "id": "4ckCQiFa98HM",
        "outputId": "46725c58-53d3-44ab-a99a-17a3643f6563"
      },
      "execution_count": null,
      "outputs": [
        {
          "output_type": "stream",
          "name": "stdout",
          "text": [
            "main_sentence, example_sentence0 : tensor([0.0233])\n",
            "main_sentence, example_sentence1 : tensor([0.0147])\n",
            "main_sentence, example_sentence2 : tensor([0.1319])\n",
            "main_sentence, example_sentence3 : tensor([0.6481])\n"
          ]
        }
      ]
    },
    {
      "cell_type": "code",
      "source": [
        "# 一番コサイン類似度が高い文章を表示\n",
        "print(f\"main_sentence : {main_sentence}\")\n",
        "most_similarity_index = similarity_scores.index(max(similarity_scores))\n",
        "print(f\"main_sentence : {sentences[most_similarity_index]}\")"
      ],
      "metadata": {
        "colab": {
          "base_uri": "https://localhost:8080/"
        },
        "id": "x8hZ9Ig4_jYo",
        "outputId": "5d063177-4864-48e9-fc1a-185840bc956e"
      },
      "execution_count": null,
      "outputs": [
        {
          "output_type": "stream",
          "name": "stdout",
          "text": [
            "main_sentence : The cat moved with impressive dexterity through the slim passageway.\n",
            "main_sentence : The feline gracefully traversed the narrow alley, demonstrating remarkable agility.\n"
          ]
        }
      ]
    }
  ]
}